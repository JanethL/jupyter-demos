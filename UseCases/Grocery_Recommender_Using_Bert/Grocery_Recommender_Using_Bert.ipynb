{
 "cells": [
  {
   "cell_type": "markdown",
   "id": "3f2d5973-1a69-45d7-883b-6b40591582c7",
   "metadata": {},
   "source": [
    "# BERT Grocery Recommender"
   ]
  },
  {
   "cell_type": "markdown",
   "id": "280643c0-fc18-4a7e-b5b3-7b1d3eb4fbfe",
   "metadata": {},
   "source": [
    "Welcome to this Jupyter notebook that will use a BERT (Bidirectional Encoder Representations from Transformers) model to make grocery product recommendations based on a customer's past purchasing patterns. In this notebook, we will use BERT's ability to generate contextualized embeddings for related products. We will then combine this information with the customer's past purchase history to recommend grocery products that are likely to be well-received. By the end of this notebook, you will have a better understanding of how BERT can be used in a practical application and how it can help improve product recommendations.\n",
    "\n",
    "BERT is a pre-trained deep learning model developed by Google for generating contextualized word embeddings that capture the meaning of a word in a given context. It uses the transformer architecture and processes text bidirectionally, allowing it to capture contextual information from both past and future words in a sentence. BERT is pre-trained on a large corpus of text using unsupervised learning tasks, such as Masked Language Modeling (MLM) and Next Sentence Prediction (NSP).\n",
    "\n",
    "After pre-training, BERT can be fine-tuned on downstream tasks with small amounts of task-specific training data, making it an efficient and effective approach for a wide range of natural language processing (NLP) tasks. BERT has become one of the most widely used models in the field of NLP.\n"
   ]
  },
  {
   "cell_type": "markdown",
   "id": "ac564a6f-8f06-4667-9c8b-5f13ccd62018",
   "metadata": {},
   "source": [
    "### Import Python Libraries"
   ]
  },
  {
   "cell_type": "code",
   "execution_count": 1,
   "id": "d2b86fa0-079f-4aa8-b014-e5f46a1b97d1",
   "metadata": {},
   "outputs": [],
   "source": [
    "import sys\n",
    "!{sys.executable} -m pip install torch transformers onnx adjustText > /dev/null 2>&1"
   ]
  },
  {
   "cell_type": "code",
   "execution_count": 2,
   "id": "c895ccbe-69c3-4e40-95b6-b9ff8aebc71f",
   "metadata": {},
   "outputs": [],
   "source": [
    "from adjustText import adjust_text\n",
    "from IPython.display import display, HTML\n",
    "import itertools\n",
    "import matplotlib.pyplot as plt\n",
    "import numpy as np\n",
    "import os\n",
    "import pandas as pd\n",
    "import pickle\n",
    "import random\n",
    "from scipy.spatial.distance import cosine\n",
    "import seaborn as sns\n",
    "from sklearn.manifold import TSNE\n",
    "from sklearn.metrics.pairwise import cosine_similarity\n",
    "import time\n",
    "import torch\n",
    "import torch.onnx\n",
    "from transformers import BertTokenizer, BertModel\n",
    "import warnings"
   ]
  },
  {
   "cell_type": "code",
   "execution_count": 3,
   "id": "5966fd9f-6232-4337-8e2d-3113bd33b0d9",
   "metadata": {},
   "outputs": [],
   "source": [
    "warnings.filterwarnings(\"ignore\")"
   ]
  },
  {
   "cell_type": "markdown",
   "id": "fb9b548b-6611-4a9b-8378-d1cd2f933d0c",
   "metadata": {},
   "source": [
    "### Load the Instacart Data"
   ]
  },
  {
   "cell_type": "markdown",
   "id": "287fc137-4d17-4a02-998d-2c4b65b59ddf",
   "metadata": {},
   "source": [
    "We are using the [Instacart Market Basket Analysis](https://www.kaggle.com/c/instacart-market-basket-analysis/data) dataset to track customers' orders over time. The main focus is on the *orders.csv* file, where each line represents a relation between a user and the order. In other words, each line has information on *userid* (user who made the order) and *orderid*. Note there is no information about products in this table. Product information related to specific orders is stored in the *order_product__*.csv* dataset."
   ]
  },
  {
   "cell_type": "code",
   "execution_count": 4,
   "id": "4293e9f6-58fa-4056-b09c-b1f950e60b9d",
   "metadata": {},
   "outputs": [
    {
     "data": {
      "text/html": [
       "<div>\n",
       "<style scoped>\n",
       "    .dataframe tbody tr th:only-of-type {\n",
       "        vertical-align: middle;\n",
       "    }\n",
       "\n",
       "    .dataframe tbody tr th {\n",
       "        vertical-align: top;\n",
       "    }\n",
       "\n",
       "    .dataframe thead th {\n",
       "        text-align: right;\n",
       "    }\n",
       "</style>\n",
       "<table border=\"1\" class=\"dataframe\">\n",
       "  <thead>\n",
       "    <tr style=\"text-align: right;\">\n",
       "      <th></th>\n",
       "      <th>order_id</th>\n",
       "      <th>product_id</th>\n",
       "      <th>add_to_cart_order</th>\n",
       "      <th>reordered</th>\n",
       "    </tr>\n",
       "  </thead>\n",
       "  <tbody>\n",
       "    <tr>\n",
       "      <th>384617</th>\n",
       "      <td>939060</td>\n",
       "      <td>40216</td>\n",
       "      <td>16</td>\n",
       "      <td>0</td>\n",
       "    </tr>\n",
       "    <tr>\n",
       "      <th>384618</th>\n",
       "      <td>939060</td>\n",
       "      <td>12576</td>\n",
       "      <td>17</td>\n",
       "      <td>0</td>\n",
       "    </tr>\n",
       "    <tr>\n",
       "      <th>384619</th>\n",
       "      <td>939060</td>\n",
       "      <td>45747</td>\n",
       "      <td>18</td>\n",
       "      <td>0</td>\n",
       "    </tr>\n",
       "    <tr>\n",
       "      <th>384620</th>\n",
       "      <td>939126</td>\n",
       "      <td>2198</td>\n",
       "      <td>1</td>\n",
       "      <td>1</td>\n",
       "    </tr>\n",
       "    <tr>\n",
       "      <th>384621</th>\n",
       "      <td>939126</td>\n",
       "      <td>37068</td>\n",
       "      <td>2</td>\n",
       "      <td>1</td>\n",
       "    </tr>\n",
       "    <tr>\n",
       "      <th>...</th>\n",
       "      <td>...</td>\n",
       "      <td>...</td>\n",
       "      <td>...</td>\n",
       "      <td>...</td>\n",
       "    </tr>\n",
       "    <tr>\n",
       "      <th>1384612</th>\n",
       "      <td>3421063</td>\n",
       "      <td>14233</td>\n",
       "      <td>3</td>\n",
       "      <td>1</td>\n",
       "    </tr>\n",
       "    <tr>\n",
       "      <th>1384613</th>\n",
       "      <td>3421063</td>\n",
       "      <td>35548</td>\n",
       "      <td>4</td>\n",
       "      <td>1</td>\n",
       "    </tr>\n",
       "    <tr>\n",
       "      <th>1384614</th>\n",
       "      <td>3421070</td>\n",
       "      <td>35951</td>\n",
       "      <td>1</td>\n",
       "      <td>1</td>\n",
       "    </tr>\n",
       "    <tr>\n",
       "      <th>1384615</th>\n",
       "      <td>3421070</td>\n",
       "      <td>16953</td>\n",
       "      <td>2</td>\n",
       "      <td>1</td>\n",
       "    </tr>\n",
       "    <tr>\n",
       "      <th>1384616</th>\n",
       "      <td>3421070</td>\n",
       "      <td>4724</td>\n",
       "      <td>3</td>\n",
       "      <td>1</td>\n",
       "    </tr>\n",
       "  </tbody>\n",
       "</table>\n",
       "<p>1000000 rows × 4 columns</p>\n",
       "</div>"
      ],
      "text/plain": [
       "         order_id  product_id  add_to_cart_order  reordered\n",
       "384617     939060       40216                 16          0\n",
       "384618     939060       12576                 17          0\n",
       "384619     939060       45747                 18          0\n",
       "384620     939126        2198                  1          1\n",
       "384621     939126       37068                  2          1\n",
       "...           ...         ...                ...        ...\n",
       "1384612   3421063       14233                  3          1\n",
       "1384613   3421063       35548                  4          1\n",
       "1384614   3421070       35951                  1          1\n",
       "1384615   3421070       16953                  2          1\n",
       "1384616   3421070        4724                  3          1\n",
       "\n",
       "[1000000 rows x 4 columns]"
      ]
     },
     "execution_count": 4,
     "metadata": {},
     "output_type": "execute_result"
    }
   ],
   "source": [
    "order_products_train = pd.read_csv('./data/order_products__train.csv')\n",
    "n_records = 1000000\n",
    "order_products_train = order_products_train.tail(n_records)\n",
    "order_products_train"
   ]
  },
  {
   "cell_type": "code",
   "execution_count": 5,
   "id": "527d9ee2-df50-431c-8971-c50b570acd14",
   "metadata": {},
   "outputs": [
    {
     "data": {
      "text/html": [
       "<div>\n",
       "<style scoped>\n",
       "    .dataframe tbody tr th:only-of-type {\n",
       "        vertical-align: middle;\n",
       "    }\n",
       "\n",
       "    .dataframe tbody tr th {\n",
       "        vertical-align: top;\n",
       "    }\n",
       "\n",
       "    .dataframe thead th {\n",
       "        text-align: right;\n",
       "    }\n",
       "</style>\n",
       "<table border=\"1\" class=\"dataframe\">\n",
       "  <thead>\n",
       "    <tr style=\"text-align: right;\">\n",
       "      <th></th>\n",
       "      <th>order_id</th>\n",
       "      <th>product_id</th>\n",
       "      <th>add_to_cart_order</th>\n",
       "      <th>reordered</th>\n",
       "    </tr>\n",
       "  </thead>\n",
       "  <tbody>\n",
       "    <tr>\n",
       "      <th>0</th>\n",
       "      <td>2</td>\n",
       "      <td>33120</td>\n",
       "      <td>1</td>\n",
       "      <td>1</td>\n",
       "    </tr>\n",
       "    <tr>\n",
       "      <th>1</th>\n",
       "      <td>2</td>\n",
       "      <td>28985</td>\n",
       "      <td>2</td>\n",
       "      <td>1</td>\n",
       "    </tr>\n",
       "    <tr>\n",
       "      <th>2</th>\n",
       "      <td>2</td>\n",
       "      <td>9327</td>\n",
       "      <td>3</td>\n",
       "      <td>0</td>\n",
       "    </tr>\n",
       "    <tr>\n",
       "      <th>3</th>\n",
       "      <td>2</td>\n",
       "      <td>45918</td>\n",
       "      <td>4</td>\n",
       "      <td>1</td>\n",
       "    </tr>\n",
       "    <tr>\n",
       "      <th>4</th>\n",
       "      <td>2</td>\n",
       "      <td>30035</td>\n",
       "      <td>5</td>\n",
       "      <td>0</td>\n",
       "    </tr>\n",
       "    <tr>\n",
       "      <th>...</th>\n",
       "      <td>...</td>\n",
       "      <td>...</td>\n",
       "      <td>...</td>\n",
       "      <td>...</td>\n",
       "    </tr>\n",
       "    <tr>\n",
       "      <th>999995</th>\n",
       "      <td>105629</td>\n",
       "      <td>18670</td>\n",
       "      <td>9</td>\n",
       "      <td>1</td>\n",
       "    </tr>\n",
       "    <tr>\n",
       "      <th>999996</th>\n",
       "      <td>105629</td>\n",
       "      <td>7010</td>\n",
       "      <td>10</td>\n",
       "      <td>1</td>\n",
       "    </tr>\n",
       "    <tr>\n",
       "      <th>999997</th>\n",
       "      <td>105629</td>\n",
       "      <td>3142</td>\n",
       "      <td>11</td>\n",
       "      <td>1</td>\n",
       "    </tr>\n",
       "    <tr>\n",
       "      <th>999998</th>\n",
       "      <td>105629</td>\n",
       "      <td>28849</td>\n",
       "      <td>12</td>\n",
       "      <td>0</td>\n",
       "    </tr>\n",
       "    <tr>\n",
       "      <th>999999</th>\n",
       "      <td>105629</td>\n",
       "      <td>18557</td>\n",
       "      <td>13</td>\n",
       "      <td>1</td>\n",
       "    </tr>\n",
       "  </tbody>\n",
       "</table>\n",
       "<p>1000000 rows × 4 columns</p>\n",
       "</div>"
      ],
      "text/plain": [
       "        order_id  product_id  add_to_cart_order  reordered\n",
       "0              2       33120                  1          1\n",
       "1              2       28985                  2          1\n",
       "2              2        9327                  3          0\n",
       "3              2       45918                  4          1\n",
       "4              2       30035                  5          0\n",
       "...          ...         ...                ...        ...\n",
       "999995    105629       18670                  9          1\n",
       "999996    105629        7010                 10          1\n",
       "999997    105629        3142                 11          1\n",
       "999998    105629       28849                 12          0\n",
       "999999    105629       18557                 13          1\n",
       "\n",
       "[1000000 rows x 4 columns]"
      ]
     },
     "execution_count": 5,
     "metadata": {},
     "output_type": "execute_result"
    }
   ],
   "source": [
    "order_products_prior = pd.read_csv('./data/order_products__prior.csv')\n",
    "order_products_prior = order_products_prior.head(n_records)\n",
    "order_products_prior"
   ]
  },
  {
   "cell_type": "code",
   "execution_count": 6,
   "id": "e85ebabd-ec5d-4862-8d00-d1841070dd07",
   "metadata": {},
   "outputs": [
    {
     "data": {
      "text/html": [
       "<div>\n",
       "<style scoped>\n",
       "    .dataframe tbody tr th:only-of-type {\n",
       "        vertical-align: middle;\n",
       "    }\n",
       "\n",
       "    .dataframe tbody tr th {\n",
       "        vertical-align: top;\n",
       "    }\n",
       "\n",
       "    .dataframe thead th {\n",
       "        text-align: right;\n",
       "    }\n",
       "</style>\n",
       "<table border=\"1\" class=\"dataframe\">\n",
       "  <thead>\n",
       "    <tr style=\"text-align: right;\">\n",
       "      <th></th>\n",
       "      <th>product_id</th>\n",
       "      <th>product_name</th>\n",
       "      <th>aisle_id</th>\n",
       "      <th>department_id</th>\n",
       "    </tr>\n",
       "  </thead>\n",
       "  <tbody>\n",
       "    <tr>\n",
       "      <th>0</th>\n",
       "      <td>1</td>\n",
       "      <td>Chocolate Sandwich Cookies</td>\n",
       "      <td>61</td>\n",
       "      <td>19</td>\n",
       "    </tr>\n",
       "    <tr>\n",
       "      <th>1</th>\n",
       "      <td>2</td>\n",
       "      <td>All-Seasons Salt</td>\n",
       "      <td>104</td>\n",
       "      <td>13</td>\n",
       "    </tr>\n",
       "    <tr>\n",
       "      <th>2</th>\n",
       "      <td>3</td>\n",
       "      <td>Robust Golden Unsweetened Oolong Tea</td>\n",
       "      <td>94</td>\n",
       "      <td>7</td>\n",
       "    </tr>\n",
       "    <tr>\n",
       "      <th>3</th>\n",
       "      <td>4</td>\n",
       "      <td>Smart Ones Classic Favorites Mini Rigatoni Wit...</td>\n",
       "      <td>38</td>\n",
       "      <td>1</td>\n",
       "    </tr>\n",
       "    <tr>\n",
       "      <th>4</th>\n",
       "      <td>5</td>\n",
       "      <td>Green Chile Anytime Sauce</td>\n",
       "      <td>5</td>\n",
       "      <td>13</td>\n",
       "    </tr>\n",
       "    <tr>\n",
       "      <th>...</th>\n",
       "      <td>...</td>\n",
       "      <td>...</td>\n",
       "      <td>...</td>\n",
       "      <td>...</td>\n",
       "    </tr>\n",
       "    <tr>\n",
       "      <th>49683</th>\n",
       "      <td>49684</td>\n",
       "      <td>Vodka, Triple Distilled, Twist of Vanilla</td>\n",
       "      <td>124</td>\n",
       "      <td>5</td>\n",
       "    </tr>\n",
       "    <tr>\n",
       "      <th>49684</th>\n",
       "      <td>49685</td>\n",
       "      <td>En Croute Roast Hazelnut Cranberry</td>\n",
       "      <td>42</td>\n",
       "      <td>1</td>\n",
       "    </tr>\n",
       "    <tr>\n",
       "      <th>49685</th>\n",
       "      <td>49686</td>\n",
       "      <td>Artisan Baguette</td>\n",
       "      <td>112</td>\n",
       "      <td>3</td>\n",
       "    </tr>\n",
       "    <tr>\n",
       "      <th>49686</th>\n",
       "      <td>49687</td>\n",
       "      <td>Smartblend Healthy Metabolism Dry Cat Food</td>\n",
       "      <td>41</td>\n",
       "      <td>8</td>\n",
       "    </tr>\n",
       "    <tr>\n",
       "      <th>49687</th>\n",
       "      <td>49688</td>\n",
       "      <td>Fresh Foaming Cleanser</td>\n",
       "      <td>73</td>\n",
       "      <td>11</td>\n",
       "    </tr>\n",
       "  </tbody>\n",
       "</table>\n",
       "<p>49688 rows × 4 columns</p>\n",
       "</div>"
      ],
      "text/plain": [
       "       product_id                                       product_name  \\\n",
       "0               1                         Chocolate Sandwich Cookies   \n",
       "1               2                                   All-Seasons Salt   \n",
       "2               3               Robust Golden Unsweetened Oolong Tea   \n",
       "3               4  Smart Ones Classic Favorites Mini Rigatoni Wit...   \n",
       "4               5                          Green Chile Anytime Sauce   \n",
       "...           ...                                                ...   \n",
       "49683       49684          Vodka, Triple Distilled, Twist of Vanilla   \n",
       "49684       49685                 En Croute Roast Hazelnut Cranberry   \n",
       "49685       49686                                   Artisan Baguette   \n",
       "49686       49687         Smartblend Healthy Metabolism Dry Cat Food   \n",
       "49687       49688                             Fresh Foaming Cleanser   \n",
       "\n",
       "       aisle_id  department_id  \n",
       "0            61             19  \n",
       "1           104             13  \n",
       "2            94              7  \n",
       "3            38              1  \n",
       "4             5             13  \n",
       "...         ...            ...  \n",
       "49683       124              5  \n",
       "49684        42              1  \n",
       "49685       112              3  \n",
       "49686        41              8  \n",
       "49687        73             11  \n",
       "\n",
       "[49688 rows x 4 columns]"
      ]
     },
     "execution_count": 6,
     "metadata": {},
     "output_type": "execute_result"
    }
   ],
   "source": [
    "products = pd.read_csv('./data/products.csv')\n",
    "products"
   ]
  },
  {
   "cell_type": "code",
   "execution_count": 7,
   "id": "3c129a98-943a-4c0c-9ef3-35677a60ec3c",
   "metadata": {},
   "outputs": [
    {
     "data": {
      "text/html": [
       "<div>\n",
       "<style scoped>\n",
       "    .dataframe tbody tr th:only-of-type {\n",
       "        vertical-align: middle;\n",
       "    }\n",
       "\n",
       "    .dataframe tbody tr th {\n",
       "        vertical-align: top;\n",
       "    }\n",
       "\n",
       "    .dataframe thead th {\n",
       "        text-align: right;\n",
       "    }\n",
       "</style>\n",
       "<table border=\"1\" class=\"dataframe\">\n",
       "  <thead>\n",
       "    <tr style=\"text-align: right;\">\n",
       "      <th></th>\n",
       "      <th>order_id</th>\n",
       "      <th>user_id</th>\n",
       "      <th>eval_set</th>\n",
       "      <th>order_number</th>\n",
       "      <th>order_dow</th>\n",
       "      <th>order_hour_of_day</th>\n",
       "      <th>days_since_prior_order</th>\n",
       "    </tr>\n",
       "  </thead>\n",
       "  <tbody>\n",
       "    <tr>\n",
       "      <th>0</th>\n",
       "      <td>2539329</td>\n",
       "      <td>1</td>\n",
       "      <td>prior</td>\n",
       "      <td>1</td>\n",
       "      <td>2</td>\n",
       "      <td>8</td>\n",
       "      <td>NaN</td>\n",
       "    </tr>\n",
       "    <tr>\n",
       "      <th>1</th>\n",
       "      <td>2398795</td>\n",
       "      <td>1</td>\n",
       "      <td>prior</td>\n",
       "      <td>2</td>\n",
       "      <td>3</td>\n",
       "      <td>7</td>\n",
       "      <td>15.0</td>\n",
       "    </tr>\n",
       "    <tr>\n",
       "      <th>2</th>\n",
       "      <td>473747</td>\n",
       "      <td>1</td>\n",
       "      <td>prior</td>\n",
       "      <td>3</td>\n",
       "      <td>3</td>\n",
       "      <td>12</td>\n",
       "      <td>21.0</td>\n",
       "    </tr>\n",
       "    <tr>\n",
       "      <th>3</th>\n",
       "      <td>2254736</td>\n",
       "      <td>1</td>\n",
       "      <td>prior</td>\n",
       "      <td>4</td>\n",
       "      <td>4</td>\n",
       "      <td>7</td>\n",
       "      <td>29.0</td>\n",
       "    </tr>\n",
       "    <tr>\n",
       "      <th>4</th>\n",
       "      <td>431534</td>\n",
       "      <td>1</td>\n",
       "      <td>prior</td>\n",
       "      <td>5</td>\n",
       "      <td>4</td>\n",
       "      <td>15</td>\n",
       "      <td>28.0</td>\n",
       "    </tr>\n",
       "    <tr>\n",
       "      <th>...</th>\n",
       "      <td>...</td>\n",
       "      <td>...</td>\n",
       "      <td>...</td>\n",
       "      <td>...</td>\n",
       "      <td>...</td>\n",
       "      <td>...</td>\n",
       "      <td>...</td>\n",
       "    </tr>\n",
       "    <tr>\n",
       "      <th>3421078</th>\n",
       "      <td>2266710</td>\n",
       "      <td>206209</td>\n",
       "      <td>prior</td>\n",
       "      <td>10</td>\n",
       "      <td>5</td>\n",
       "      <td>18</td>\n",
       "      <td>29.0</td>\n",
       "    </tr>\n",
       "    <tr>\n",
       "      <th>3421079</th>\n",
       "      <td>1854736</td>\n",
       "      <td>206209</td>\n",
       "      <td>prior</td>\n",
       "      <td>11</td>\n",
       "      <td>4</td>\n",
       "      <td>10</td>\n",
       "      <td>30.0</td>\n",
       "    </tr>\n",
       "    <tr>\n",
       "      <th>3421080</th>\n",
       "      <td>626363</td>\n",
       "      <td>206209</td>\n",
       "      <td>prior</td>\n",
       "      <td>12</td>\n",
       "      <td>1</td>\n",
       "      <td>12</td>\n",
       "      <td>18.0</td>\n",
       "    </tr>\n",
       "    <tr>\n",
       "      <th>3421081</th>\n",
       "      <td>2977660</td>\n",
       "      <td>206209</td>\n",
       "      <td>prior</td>\n",
       "      <td>13</td>\n",
       "      <td>1</td>\n",
       "      <td>12</td>\n",
       "      <td>7.0</td>\n",
       "    </tr>\n",
       "    <tr>\n",
       "      <th>3421082</th>\n",
       "      <td>272231</td>\n",
       "      <td>206209</td>\n",
       "      <td>train</td>\n",
       "      <td>14</td>\n",
       "      <td>6</td>\n",
       "      <td>14</td>\n",
       "      <td>30.0</td>\n",
       "    </tr>\n",
       "  </tbody>\n",
       "</table>\n",
       "<p>3421083 rows × 7 columns</p>\n",
       "</div>"
      ],
      "text/plain": [
       "         order_id  user_id eval_set  order_number  order_dow  \\\n",
       "0         2539329        1    prior             1          2   \n",
       "1         2398795        1    prior             2          3   \n",
       "2          473747        1    prior             3          3   \n",
       "3         2254736        1    prior             4          4   \n",
       "4          431534        1    prior             5          4   \n",
       "...           ...      ...      ...           ...        ...   \n",
       "3421078   2266710   206209    prior            10          5   \n",
       "3421079   1854736   206209    prior            11          4   \n",
       "3421080    626363   206209    prior            12          1   \n",
       "3421081   2977660   206209    prior            13          1   \n",
       "3421082    272231   206209    train            14          6   \n",
       "\n",
       "         order_hour_of_day  days_since_prior_order  \n",
       "0                        8                     NaN  \n",
       "1                        7                    15.0  \n",
       "2                       12                    21.0  \n",
       "3                        7                    29.0  \n",
       "4                       15                    28.0  \n",
       "...                    ...                     ...  \n",
       "3421078                 18                    29.0  \n",
       "3421079                 10                    30.0  \n",
       "3421080                 12                    18.0  \n",
       "3421081                 12                     7.0  \n",
       "3421082                 14                    30.0  \n",
       "\n",
       "[3421083 rows x 7 columns]"
      ]
     },
     "execution_count": 7,
     "metadata": {},
     "output_type": "execute_result"
    }
   ],
   "source": [
    "orders = pd.read_csv('./data/orders.csv')\n",
    "orders"
   ]
  },
  {
   "cell_type": "code",
   "execution_count": 8,
   "id": "5fff53a1-70bd-405f-ae65-2e18a00d1d38",
   "metadata": {},
   "outputs": [
    {
     "data": {
      "text/html": [
       "<div>\n",
       "<style scoped>\n",
       "    .dataframe tbody tr th:only-of-type {\n",
       "        vertical-align: middle;\n",
       "    }\n",
       "\n",
       "    .dataframe tbody tr th {\n",
       "        vertical-align: top;\n",
       "    }\n",
       "\n",
       "    .dataframe thead th {\n",
       "        text-align: right;\n",
       "    }\n",
       "</style>\n",
       "<table border=\"1\" class=\"dataframe\">\n",
       "  <thead>\n",
       "    <tr style=\"text-align: right;\">\n",
       "      <th></th>\n",
       "      <th>order_id</th>\n",
       "      <th>product_id</th>\n",
       "      <th>add_to_cart_order</th>\n",
       "      <th>reordered</th>\n",
       "    </tr>\n",
       "  </thead>\n",
       "  <tbody>\n",
       "    <tr>\n",
       "      <th>0</th>\n",
       "      <td>939060</td>\n",
       "      <td>40216</td>\n",
       "      <td>16</td>\n",
       "      <td>0</td>\n",
       "    </tr>\n",
       "    <tr>\n",
       "      <th>1</th>\n",
       "      <td>939060</td>\n",
       "      <td>12576</td>\n",
       "      <td>17</td>\n",
       "      <td>0</td>\n",
       "    </tr>\n",
       "    <tr>\n",
       "      <th>2</th>\n",
       "      <td>939060</td>\n",
       "      <td>45747</td>\n",
       "      <td>18</td>\n",
       "      <td>0</td>\n",
       "    </tr>\n",
       "    <tr>\n",
       "      <th>3</th>\n",
       "      <td>939126</td>\n",
       "      <td>2198</td>\n",
       "      <td>1</td>\n",
       "      <td>1</td>\n",
       "    </tr>\n",
       "    <tr>\n",
       "      <th>4</th>\n",
       "      <td>939126</td>\n",
       "      <td>37068</td>\n",
       "      <td>2</td>\n",
       "      <td>1</td>\n",
       "    </tr>\n",
       "    <tr>\n",
       "      <th>...</th>\n",
       "      <td>...</td>\n",
       "      <td>...</td>\n",
       "      <td>...</td>\n",
       "      <td>...</td>\n",
       "    </tr>\n",
       "    <tr>\n",
       "      <th>1999995</th>\n",
       "      <td>105629</td>\n",
       "      <td>18670</td>\n",
       "      <td>9</td>\n",
       "      <td>1</td>\n",
       "    </tr>\n",
       "    <tr>\n",
       "      <th>1999996</th>\n",
       "      <td>105629</td>\n",
       "      <td>7010</td>\n",
       "      <td>10</td>\n",
       "      <td>1</td>\n",
       "    </tr>\n",
       "    <tr>\n",
       "      <th>1999997</th>\n",
       "      <td>105629</td>\n",
       "      <td>3142</td>\n",
       "      <td>11</td>\n",
       "      <td>1</td>\n",
       "    </tr>\n",
       "    <tr>\n",
       "      <th>1999998</th>\n",
       "      <td>105629</td>\n",
       "      <td>28849</td>\n",
       "      <td>12</td>\n",
       "      <td>0</td>\n",
       "    </tr>\n",
       "    <tr>\n",
       "      <th>1999999</th>\n",
       "      <td>105629</td>\n",
       "      <td>18557</td>\n",
       "      <td>13</td>\n",
       "      <td>1</td>\n",
       "    </tr>\n",
       "  </tbody>\n",
       "</table>\n",
       "<p>2000000 rows × 4 columns</p>\n",
       "</div>"
      ],
      "text/plain": [
       "         order_id  product_id  add_to_cart_order  reordered\n",
       "0          939060       40216                 16          0\n",
       "1          939060       12576                 17          0\n",
       "2          939060       45747                 18          0\n",
       "3          939126        2198                  1          1\n",
       "4          939126       37068                  2          1\n",
       "...           ...         ...                ...        ...\n",
       "1999995    105629       18670                  9          1\n",
       "1999996    105629        7010                 10          1\n",
       "1999997    105629        3142                 11          1\n",
       "1999998    105629       28849                 12          0\n",
       "1999999    105629       18557                 13          1\n",
       "\n",
       "[2000000 rows x 4 columns]"
      ]
     },
     "execution_count": 8,
     "metadata": {},
     "output_type": "execute_result"
    }
   ],
   "source": [
    "order_products = pd.concat([order_products_train, order_products_prior], ignore_index=True)\n",
    "order_products"
   ]
  },
  {
   "cell_type": "code",
   "execution_count": 9,
   "id": "29e0945c-910b-4ec3-84f5-f477d5d96c6e",
   "metadata": {},
   "outputs": [],
   "source": [
    "# Combine all of the datasets into one dataframe.\n",
    "df_all = order_products.merge(products, on=\"product_id\").merge(orders, on=\"order_id\")"
   ]
  },
  {
   "cell_type": "code",
   "execution_count": 10,
   "id": "e4af290f-32ab-4fd1-8cb2-87d4d612fbdc",
   "metadata": {},
   "outputs": [
    {
     "data": {
      "text/html": [
       "<div>\n",
       "<style scoped>\n",
       "    .dataframe tbody tr th:only-of-type {\n",
       "        vertical-align: middle;\n",
       "    }\n",
       "\n",
       "    .dataframe tbody tr th {\n",
       "        vertical-align: top;\n",
       "    }\n",
       "\n",
       "    .dataframe thead th {\n",
       "        text-align: right;\n",
       "    }\n",
       "</style>\n",
       "<table border=\"1\" class=\"dataframe\">\n",
       "  <thead>\n",
       "    <tr style=\"text-align: right;\">\n",
       "      <th></th>\n",
       "      <th>order_id</th>\n",
       "      <th>product_id</th>\n",
       "      <th>add_to_cart_order</th>\n",
       "      <th>reordered</th>\n",
       "      <th>product_name</th>\n",
       "      <th>aisle_id</th>\n",
       "      <th>department_id</th>\n",
       "      <th>user_id</th>\n",
       "      <th>eval_set</th>\n",
       "      <th>order_number</th>\n",
       "      <th>order_dow</th>\n",
       "      <th>order_hour_of_day</th>\n",
       "      <th>days_since_prior_order</th>\n",
       "    </tr>\n",
       "  </thead>\n",
       "  <tbody>\n",
       "    <tr>\n",
       "      <th>0</th>\n",
       "      <td>939060</td>\n",
       "      <td>40216</td>\n",
       "      <td>16</td>\n",
       "      <td>0</td>\n",
       "      <td>Yukon Gold Potatoes</td>\n",
       "      <td>83</td>\n",
       "      <td>4</td>\n",
       "      <td>26435</td>\n",
       "      <td>train</td>\n",
       "      <td>5</td>\n",
       "      <td>6</td>\n",
       "      <td>17</td>\n",
       "      <td>30.0</td>\n",
       "    </tr>\n",
       "    <tr>\n",
       "      <th>1</th>\n",
       "      <td>939060</td>\n",
       "      <td>12576</td>\n",
       "      <td>17</td>\n",
       "      <td>0</td>\n",
       "      <td>Kiwi Sandia Sparkling Water</td>\n",
       "      <td>115</td>\n",
       "      <td>7</td>\n",
       "      <td>26435</td>\n",
       "      <td>train</td>\n",
       "      <td>5</td>\n",
       "      <td>6</td>\n",
       "      <td>17</td>\n",
       "      <td>30.0</td>\n",
       "    </tr>\n",
       "    <tr>\n",
       "      <th>2</th>\n",
       "      <td>939060</td>\n",
       "      <td>45747</td>\n",
       "      <td>18</td>\n",
       "      <td>0</td>\n",
       "      <td>Curate Melon Pomelo Sparking Water</td>\n",
       "      <td>115</td>\n",
       "      <td>7</td>\n",
       "      <td>26435</td>\n",
       "      <td>train</td>\n",
       "      <td>5</td>\n",
       "      <td>6</td>\n",
       "      <td>17</td>\n",
       "      <td>30.0</td>\n",
       "    </tr>\n",
       "    <tr>\n",
       "      <th>3</th>\n",
       "      <td>1035591</td>\n",
       "      <td>40216</td>\n",
       "      <td>6</td>\n",
       "      <td>0</td>\n",
       "      <td>Yukon Gold Potatoes</td>\n",
       "      <td>83</td>\n",
       "      <td>4</td>\n",
       "      <td>190098</td>\n",
       "      <td>train</td>\n",
       "      <td>21</td>\n",
       "      <td>0</td>\n",
       "      <td>14</td>\n",
       "      <td>30.0</td>\n",
       "    </tr>\n",
       "    <tr>\n",
       "      <th>4</th>\n",
       "      <td>1035591</td>\n",
       "      <td>24852</td>\n",
       "      <td>15</td>\n",
       "      <td>1</td>\n",
       "      <td>Banana</td>\n",
       "      <td>24</td>\n",
       "      <td>4</td>\n",
       "      <td>190098</td>\n",
       "      <td>train</td>\n",
       "      <td>21</td>\n",
       "      <td>0</td>\n",
       "      <td>14</td>\n",
       "      <td>30.0</td>\n",
       "    </tr>\n",
       "    <tr>\n",
       "      <th>...</th>\n",
       "      <td>...</td>\n",
       "      <td>...</td>\n",
       "      <td>...</td>\n",
       "      <td>...</td>\n",
       "      <td>...</td>\n",
       "      <td>...</td>\n",
       "      <td>...</td>\n",
       "      <td>...</td>\n",
       "      <td>...</td>\n",
       "      <td>...</td>\n",
       "      <td>...</td>\n",
       "      <td>...</td>\n",
       "      <td>...</td>\n",
       "    </tr>\n",
       "    <tr>\n",
       "      <th>1999995</th>\n",
       "      <td>78886</td>\n",
       "      <td>31646</td>\n",
       "      <td>1</td>\n",
       "      <td>0</td>\n",
       "      <td>Variety of Victorys</td>\n",
       "      <td>27</td>\n",
       "      <td>5</td>\n",
       "      <td>133149</td>\n",
       "      <td>prior</td>\n",
       "      <td>10</td>\n",
       "      <td>4</td>\n",
       "      <td>11</td>\n",
       "      <td>13.0</td>\n",
       "    </tr>\n",
       "    <tr>\n",
       "      <th>1999996</th>\n",
       "      <td>79901</td>\n",
       "      <td>22134</td>\n",
       "      <td>1</td>\n",
       "      <td>0</td>\n",
       "      <td>Chili Style Diced Tomatoes</td>\n",
       "      <td>81</td>\n",
       "      <td>15</td>\n",
       "      <td>13065</td>\n",
       "      <td>prior</td>\n",
       "      <td>3</td>\n",
       "      <td>4</td>\n",
       "      <td>18</td>\n",
       "      <td>11.0</td>\n",
       "    </tr>\n",
       "    <tr>\n",
       "      <th>1999997</th>\n",
       "      <td>96843</td>\n",
       "      <td>24569</td>\n",
       "      <td>1</td>\n",
       "      <td>0</td>\n",
       "      <td>Witch Hazel For Face &amp; Body</td>\n",
       "      <td>118</td>\n",
       "      <td>11</td>\n",
       "      <td>110738</td>\n",
       "      <td>prior</td>\n",
       "      <td>2</td>\n",
       "      <td>1</td>\n",
       "      <td>18</td>\n",
       "      <td>10.0</td>\n",
       "    </tr>\n",
       "    <tr>\n",
       "      <th>1999998</th>\n",
       "      <td>98534</td>\n",
       "      <td>37315</td>\n",
       "      <td>1</td>\n",
       "      <td>0</td>\n",
       "      <td>Fresh Hen Turkey</td>\n",
       "      <td>49</td>\n",
       "      <td>12</td>\n",
       "      <td>4338</td>\n",
       "      <td>prior</td>\n",
       "      <td>4</td>\n",
       "      <td>1</td>\n",
       "      <td>8</td>\n",
       "      <td>11.0</td>\n",
       "    </tr>\n",
       "    <tr>\n",
       "      <th>1999999</th>\n",
       "      <td>99998</td>\n",
       "      <td>3178</td>\n",
       "      <td>1</td>\n",
       "      <td>0</td>\n",
       "      <td>Healthy Trinity, 3 in 1, Capsules</td>\n",
       "      <td>70</td>\n",
       "      <td>11</td>\n",
       "      <td>89589</td>\n",
       "      <td>prior</td>\n",
       "      <td>2</td>\n",
       "      <td>3</td>\n",
       "      <td>14</td>\n",
       "      <td>0.0</td>\n",
       "    </tr>\n",
       "  </tbody>\n",
       "</table>\n",
       "<p>2000000 rows × 13 columns</p>\n",
       "</div>"
      ],
      "text/plain": [
       "         order_id  product_id  add_to_cart_order  reordered  \\\n",
       "0          939060       40216                 16          0   \n",
       "1          939060       12576                 17          0   \n",
       "2          939060       45747                 18          0   \n",
       "3         1035591       40216                  6          0   \n",
       "4         1035591       24852                 15          1   \n",
       "...           ...         ...                ...        ...   \n",
       "1999995     78886       31646                  1          0   \n",
       "1999996     79901       22134                  1          0   \n",
       "1999997     96843       24569                  1          0   \n",
       "1999998     98534       37315                  1          0   \n",
       "1999999     99998        3178                  1          0   \n",
       "\n",
       "                               product_name  aisle_id  department_id  user_id  \\\n",
       "0                       Yukon Gold Potatoes        83              4    26435   \n",
       "1               Kiwi Sandia Sparkling Water       115              7    26435   \n",
       "2        Curate Melon Pomelo Sparking Water       115              7    26435   \n",
       "3                       Yukon Gold Potatoes        83              4   190098   \n",
       "4                                    Banana        24              4   190098   \n",
       "...                                     ...       ...            ...      ...   \n",
       "1999995                 Variety of Victorys        27              5   133149   \n",
       "1999996          Chili Style Diced Tomatoes        81             15    13065   \n",
       "1999997         Witch Hazel For Face & Body       118             11   110738   \n",
       "1999998                    Fresh Hen Turkey        49             12     4338   \n",
       "1999999   Healthy Trinity, 3 in 1, Capsules        70             11    89589   \n",
       "\n",
       "        eval_set  order_number  order_dow  order_hour_of_day  \\\n",
       "0          train             5          6                 17   \n",
       "1          train             5          6                 17   \n",
       "2          train             5          6                 17   \n",
       "3          train            21          0                 14   \n",
       "4          train            21          0                 14   \n",
       "...          ...           ...        ...                ...   \n",
       "1999995    prior            10          4                 11   \n",
       "1999996    prior             3          4                 18   \n",
       "1999997    prior             2          1                 18   \n",
       "1999998    prior             4          1                  8   \n",
       "1999999    prior             2          3                 14   \n",
       "\n",
       "         days_since_prior_order  \n",
       "0                          30.0  \n",
       "1                          30.0  \n",
       "2                          30.0  \n",
       "3                          30.0  \n",
       "4                          30.0  \n",
       "...                         ...  \n",
       "1999995                    13.0  \n",
       "1999996                    11.0  \n",
       "1999997                    10.0  \n",
       "1999998                    11.0  \n",
       "1999999                     0.0  \n",
       "\n",
       "[2000000 rows x 13 columns]"
      ]
     },
     "execution_count": 10,
     "metadata": {},
     "output_type": "execute_result"
    }
   ],
   "source": [
    "df_all"
   ]
  },
  {
   "cell_type": "code",
   "execution_count": 11,
   "id": "8f077d58-4ce8-46a6-96bc-1a908f36600b",
   "metadata": {},
   "outputs": [
    {
     "data": {
      "text/plain": [
       "(2000000, 13)"
      ]
     },
     "execution_count": 11,
     "metadata": {},
     "output_type": "execute_result"
    }
   ],
   "source": [
    "df_all.shape"
   ]
  },
  {
   "cell_type": "markdown",
   "id": "1dc1eac4-19d0-4f26-8778-a6998bd5e667",
   "metadata": {},
   "source": [
    "### Load BERT Model\n",
    "\n",
    "Create a tokenizer object from the BertTokenizer class, which is used to convert raw text into tokens that can be fed into the BERT model. The model object is created from the BertModel class and is initialized with the pre-trained weights for the 'bert-base-uncased' model. This model can be fine-tuned on a wide range of NLP tasks such as text classification, sentiment analysis, and language understanding. In our case, we are going to predict the next product to recommend to the customer based on the sequence of previously purchased products.\n",
    "\n",
    "You can see the hierarchical structure of the BERT model with its different deep learning layers by simply displaying the model object."
   ]
  },
  {
   "cell_type": "code",
   "execution_count": 12,
   "id": "3dca4cb6-227a-4715-9531-3daf416b3ed5",
   "metadata": {},
   "outputs": [
    {
     "name": "stderr",
     "output_type": "stream",
     "text": [
      "Some weights of the model checkpoint at bert-base-uncased were not used when initializing BertModel: ['cls.predictions.transform.dense.weight', 'cls.predictions.transform.LayerNorm.bias', 'cls.predictions.decoder.weight', 'cls.predictions.bias', 'cls.predictions.transform.LayerNorm.weight', 'cls.seq_relationship.weight', 'cls.seq_relationship.bias', 'cls.predictions.transform.dense.bias']\n",
      "- This IS expected if you are initializing BertModel from the checkpoint of a model trained on another task or with another architecture (e.g. initializing a BertForSequenceClassification model from a BertForPreTraining model).\n",
      "- This IS NOT expected if you are initializing BertModel from the checkpoint of a model that you expect to be exactly identical (initializing a BertForSequenceClassification model from a BertForSequenceClassification model).\n"
     ]
    },
    {
     "data": {
      "text/plain": [
       "BertModel(\n",
       "  (embeddings): BertEmbeddings(\n",
       "    (word_embeddings): Embedding(30522, 768, padding_idx=0)\n",
       "    (position_embeddings): Embedding(512, 768)\n",
       "    (token_type_embeddings): Embedding(2, 768)\n",
       "    (LayerNorm): LayerNorm((768,), eps=1e-12, elementwise_affine=True)\n",
       "    (dropout): Dropout(p=0.1, inplace=False)\n",
       "  )\n",
       "  (encoder): BertEncoder(\n",
       "    (layer): ModuleList(\n",
       "      (0-11): 12 x BertLayer(\n",
       "        (attention): BertAttention(\n",
       "          (self): BertSelfAttention(\n",
       "            (query): Linear(in_features=768, out_features=768, bias=True)\n",
       "            (key): Linear(in_features=768, out_features=768, bias=True)\n",
       "            (value): Linear(in_features=768, out_features=768, bias=True)\n",
       "            (dropout): Dropout(p=0.1, inplace=False)\n",
       "          )\n",
       "          (output): BertSelfOutput(\n",
       "            (dense): Linear(in_features=768, out_features=768, bias=True)\n",
       "            (LayerNorm): LayerNorm((768,), eps=1e-12, elementwise_affine=True)\n",
       "            (dropout): Dropout(p=0.1, inplace=False)\n",
       "          )\n",
       "        )\n",
       "        (intermediate): BertIntermediate(\n",
       "          (dense): Linear(in_features=768, out_features=3072, bias=True)\n",
       "          (intermediate_act_fn): GELUActivation()\n",
       "        )\n",
       "        (output): BertOutput(\n",
       "          (dense): Linear(in_features=3072, out_features=768, bias=True)\n",
       "          (LayerNorm): LayerNorm((768,), eps=1e-12, elementwise_affine=True)\n",
       "          (dropout): Dropout(p=0.1, inplace=False)\n",
       "        )\n",
       "      )\n",
       "    )\n",
       "  )\n",
       "  (pooler): BertPooler(\n",
       "    (dense): Linear(in_features=768, out_features=768, bias=True)\n",
       "    (activation): Tanh()\n",
       "  )\n",
       ")"
      ]
     },
     "execution_count": 12,
     "metadata": {},
     "output_type": "execute_result"
    }
   ],
   "source": [
    "model_name = 'bert-base-uncased'\n",
    "tokenizer = BertTokenizer.from_pretrained(model_name)\n",
    "model = BertModel.from_pretrained(model_name)\n",
    "model"
   ]
  },
  {
   "cell_type": "markdown",
   "id": "18430bcd-89bd-429a-be48-f48b72c88aad",
   "metadata": {},
   "source": [
    "### Generate product embeddings\n",
    "\n",
    "BERT embeddings are a way to represent words in a sentence with a vector of numbers that captures the meaning of the word in context. These vectors are generated by a deep neural network such as PyTorch that has been trained on a large amount of text data. \n",
    "\n",
    "The key innovation of BERT embeddings is that they are contextualized, meaning that the vector representation of a word depends on the words that come before and after it in the sentence. This allows BERT embeddings to capture the subtle nuances of language that can change the meaning of a word depending on its context.\n",
    "\n",
    "For example, the word \"bank\" can have different meanings depending on the context in which it is used. In the sentence \"I need to go to the bank to withdraw some money\", the word \"bank\" refers to a financial institution. In the sentence \"The river bank was covered in mud\", the word \"bank\" refers to the edge of a river. BERT embeddings are able to capture these contextual differences and generate different vector representations for the word \"bank\" in each sentence.\n",
    "\n",
    "These contextualized word embeddings have many applications in NLP, such as sentiment analysis, text classification, and language translation, because they allow algorithms to better understand the meaning of words in context and make more accurate predictions."
   ]
  },
  {
   "cell_type": "code",
   "execution_count": 13,
   "id": "c9a0a1b8-5a2d-4962-ab27-1e72af14e585",
   "metadata": {},
   "outputs": [],
   "source": [
    "def get_bert_embeddings(text, tokenizer, model):\n",
    "    input_ids = tokenizer.encode(text, add_special_tokens=True, return_tensors='pt')\n",
    "    with torch.no_grad():\n",
    "        output = model(input_ids)\n",
    "    return output.last_hidden_state[:, 0, :].detach().numpy()"
   ]
  },
  {
   "cell_type": "code",
   "execution_count": 14,
   "id": "47f2f1ed-cdb2-479c-a160-48f192cca08b",
   "metadata": {},
   "outputs": [],
   "source": [
    "load_dict = True"
   ]
  },
  {
   "cell_type": "code",
   "execution_count": 15,
   "id": "87b10ff7-50b8-410d-987f-61ba804f9765",
   "metadata": {},
   "outputs": [],
   "source": [
    "if not load_dict:\n",
    "    # We will need to save the embeddings separately because of the time needed to generate them\n",
    "    print(\"Generating Product Embeddings\")\n",
    "    unique_products = products['product_name'].unique()\n",
    "    product_embeddings = np.vstack([get_bert_embeddings(name, tokenizer, model) for name in unique_products])\n",
    "    product_embedding_dict = dict(zip(unique_products, product_embeddings))"
   ]
  },
  {
   "cell_type": "code",
   "execution_count": 16,
   "id": "ed78726e-86af-4222-bea0-4d65d670a9dd",
   "metadata": {},
   "outputs": [
    {
     "name": "stdout",
     "output_type": "stream",
     "text": [
      "Loading Product Embeddings\n",
      "The product embedding dictionary is 49688 items in length.\n"
     ]
    }
   ],
   "source": [
    "file_spec = './product_embeddings.pkl'\n",
    "if load_dict:\n",
    "    print(\"Loading Product Embeddings\")\n",
    "    with open(file_spec, 'rb') as file:\n",
    "        product_embedding_dict = pickle.load(file)\n",
    "else:\n",
    "    print(\"Saving Product Embeddings\")\n",
    "    with open(file_spec, 'wb') as file:\n",
    "        pickle.dump(product_embedding_dict, file)\n",
    "print(f\"The product embedding dictionary is {len(product_embedding_dict)} items in length.\")"
   ]
  },
  {
   "cell_type": "code",
   "execution_count": 17,
   "id": "03a7a5a8-6fa8-43e5-b9c9-040c76acbdff",
   "metadata": {},
   "outputs": [
    {
     "name": "stdout",
     "output_type": "stream",
     "text": [
      "Showing first 20 products in our embedding dictionary\n"
     ]
    },
    {
     "data": {
      "text/plain": [
       "['Chocolate Sandwich Cookies',\n",
       " 'All-Seasons Salt',\n",
       " 'Robust Golden Unsweetened Oolong Tea',\n",
       " 'Smart Ones Classic Favorites Mini Rigatoni With Vodka Cream Sauce',\n",
       " 'Green Chile Anytime Sauce',\n",
       " 'Dry Nose Oil',\n",
       " 'Pure Coconut Water With Orange',\n",
       " \"Cut Russet Potatoes Steam N' Mash\",\n",
       " 'Light Strawberry Blueberry Yogurt',\n",
       " 'Sparkling Orange Juice & Prickly Pear Beverage',\n",
       " 'Peach Mango Juice',\n",
       " 'Chocolate Fudge Layer Cake',\n",
       " 'Saline Nasal Mist',\n",
       " 'Fresh Scent Dishwasher Cleaner',\n",
       " 'Overnight Diapers Size 6',\n",
       " 'Mint Chocolate Flavored Syrup',\n",
       " 'Rendered Duck Fat',\n",
       " 'Pizza for One Suprema  Frozen Pizza',\n",
       " 'Gluten Free Quinoa Three Cheese & Mushroom Blend',\n",
       " 'Pomegranate Cranberry & Aloe Vera Enrich Drink']"
      ]
     },
     "execution_count": 17,
     "metadata": {},
     "output_type": "execute_result"
    }
   ],
   "source": [
    "n_products = 20\n",
    "all_products = list(product_embedding_dict.keys())\n",
    "print(f\"Showing first {n_products} products in our embedding dictionary\")\n",
    "all_products[:n_products]"
   ]
  },
  {
   "cell_type": "markdown",
   "id": "fb97b806-31c4-496e-86d6-362704eef589",
   "metadata": {},
   "source": [
    "Word embeddings are a common type of embedding used in natural language processing (NLP). In word embeddings,\n",
    "each word in a vocabulary is represented by a dense vector, typically with a fixed number of dimensions, in\n",
    "our case 768. These vectors are designed to capture the semantic meaning of words, so that words with similar\n",
    "meanings have similar vector representations. In our case, we are relating the approximately 50,000 products\n",
    "to each other."
   ]
  },
  {
   "cell_type": "code",
   "execution_count": 18,
   "id": "cab71ed8-5e23-4051-bece-0811b9cf63d7",
   "metadata": {},
   "outputs": [
    {
     "name": "stdout",
     "output_type": "stream",
     "text": [
      "The vector embedding for each product is length: 768\n",
      "Here are the first 10 elements of the embedding vector:\n",
      "[-0.6079379  -0.02424314 -0.15218076  0.41404417  0.16926445  0.00221938\n",
      " -0.19382751  0.89590913 -0.212102   -0.17228398]\n"
     ]
    }
   ],
   "source": [
    "product_example = product_embedding_dict['Green Chile Anytime Sauce']\n",
    "print(f\"The vector embedding for each product is length: {len(product_example)}\")\n",
    "n_elements = 10\n",
    "embedding_sample = product_example[:n_elements]\n",
    "print(f\"Here are the first {n_elements} elements of the embedding vector:\\n{embedding_sample}\")"
   ]
  },
  {
   "cell_type": "code",
   "execution_count": 19,
   "id": "b7611c43-1b92-46c8-8a7f-5930a2ed5dfe",
   "metadata": {},
   "outputs": [],
   "source": [
    "# This code was used for finding common terms amongst the product catalog.\n",
    "search_product = False\n",
    "if search_product:\n",
    "    substring = 'Milk Chocolate Almond'\n",
    "    # Iterate over the keys and check if the substring is present\n",
    "    matching_keys = [key for key in product_embedding_dict if substring in key]\n",
    "    matching_keys"
   ]
  },
  {
   "cell_type": "code",
   "execution_count": 20,
   "id": "1e883c5a-82a1-43ce-8e39-eb7ec044e550",
   "metadata": {},
   "outputs": [
    {
     "name": "stdout",
     "output_type": "stream",
     "text": [
      "We will visualize the embeddings for a selected 20 products.\n"
     ]
    }
   ],
   "source": [
    "product_labels = ['New York City Slices Gourmet Pizza',\n",
    "                  'Di Giorno Half & Half Pizza Cheese And Pepperoni',\n",
    "                  'Italian Sausage & Fire-Roasted Veggie Pizza',\n",
    "                  'Pizza Squeeze Pizza Sauce',\n",
    "                  'Calzone Spinach Feta & Tomato',\n",
    "                  'Pure Coconut Water With Orange',\n",
    "                  'Grapefruit Sparkling Energy Water',\n",
    "                  'Water New Zealand',\n",
    "                  'Red Grapefruit In Water',\n",
    "                  'Premium Spring Water',\n",
    "                  'Albacore Tuna in Yellow Coconut Curry',\n",
    "                  'Yellowfin Tuna Steak',\n",
    "                  'Ahi Tuna',\n",
    "                  'Chicken & Tuna Dinner Wet Cat Food',\n",
    "                  'Turkey Feast Cat Food',\n",
    "                  'Light Strawberry Blueberry Yogurt',\n",
    "                  'Yogurt Honey Peanut Bar',\n",
    "                  'Organic Coconut Yogurt',\n",
    "                  'Organic Milk',\n",
    "                  'Reduced Fat 1% Milk']\n",
    "print(f\"We will visualize the embeddings for a selected {len(product_labels)} products.\")"
   ]
  },
  {
   "cell_type": "raw",
   "id": "281a36b0-42a2-4b31-9247-7b05a3427669",
   "metadata": {},
   "source": [
    "Now, we are going to apply t-SNE to project our embeddings. t-SNE (t-distributed Stochastic Neighbor Embedding) is a machine learning algorithm used for dimensionality reduction and visualization of high-dimensional data. It is particularly effective for visualizing complex datasets with many dimensions (our dimension is 768). The main goal of t-SNE is to project high-dimensional data points into a lower-dimensional space (usually 2D or 3D) in such a way that similar data points in the high-dimensional space are modeled as close neighbors in the lower-dimensional space, while dissimilar data points are modeled as distant points."
   ]
  },
  {
   "cell_type": "code",
   "execution_count": 21,
   "id": "11ba2d57-e150-4a01-9894-6c0ba7ee1d72",
   "metadata": {},
   "outputs": [],
   "source": [
    "tsne_embedding_dict = {key: product_embedding_dict[key] for key in product_labels if key in product_embedding_dict}"
   ]
  },
  {
   "cell_type": "code",
   "execution_count": 22,
   "id": "a1a0b51a-fc4f-4978-a59c-6c9bf804b9f0",
   "metadata": {},
   "outputs": [],
   "source": [
    "tsne_embeddings = [value.tolist() for key, value in tsne_embedding_dict.items()]\n",
    "# Convert embeddings to numpy array\n",
    "embeddings_array = np.array(tsne_embeddings)"
   ]
  },
  {
   "cell_type": "code",
   "execution_count": 23,
   "id": "74b4087a-f1fa-4576-9a83-af74f2df3931",
   "metadata": {},
   "outputs": [],
   "source": [
    "# Perform t-SNE dimensionality reduction\n",
    "tsne = TSNE(n_components=2, random_state=42)\n",
    "embeddings_2d = tsne.fit_transform(embeddings_array)"
   ]
  },
  {
   "cell_type": "code",
   "execution_count": 24,
   "id": "012b4487-0975-4688-a92d-6228650c1752",
   "metadata": {},
   "outputs": [
    {
     "data": {
      "image/png": "[encoded data removed]",
      "text/plain": [
       "<Figure size 1296x1008 with 1 Axes>"
      ]
     },
     "metadata": {},
     "output_type": "display_data"
    }
   ],
   "source": [
    "# Plot t-SNE results\n",
    "sns.set(rc={\"figure.figsize\": (18, 14)})\n",
    "palette = sns.color_palette(\"hls\", len(product_labels))\n",
    "\n",
    "texts = []\n",
    "for i, (x, y) in enumerate(embeddings_2d):\n",
    "    plt.scatter(x, y, color=palette[i], alpha=1, label=product_labels[i])\n",
    "    texts.append(plt.text(x, y, product_labels[i], ha='left', va='bottom', fontsize=16))\n",
    "\n",
    "adjust_text(texts, force_points=0.2, force_text=0.2, expand_points=(1, 1), expand_text=(1, 1), \n",
    "            arrowprops=dict(arrowstyle=\"-\", lw=0.5, alpha=0.5, color='grey'))\n",
    "\n",
    "plt.xlabel(\"t-SNE 1\", fontsize=16)\n",
    "plt.ylabel(\"t-SNE 2\", fontsize=16)\n",
    "plt.title(\"t-SNE visualization of Product Embeddings\", fontsize=18)\n",
    "plt.show()"
   ]
  },
  {
   "cell_type": "markdown",
   "id": "4e26390c-31b5-4d38-a178-d17d99cd78b1",
   "metadata": {},
   "source": [
    "In the picture above, we can observe some patterns in why certain products are clustered together.\n",
    "\n",
    "1. Milk and yogurt products are clustered in the upper right-hand quadrant.\n",
    "2. Pizza-related items are located around the center.\n",
    "3. There seems to be a fruit dimension along the bottom. \n",
    "\n",
    "Keep in mind that this is a relatively small sample, and now we will look at the actual distances below to find the closely related products. We will calculate the cosine similarity for each product pair. Cosine similarity is a measure of similarity between two non-zero vectors in a multi-dimensional space, calculated as the cosine of the angle between the vectors. It ranges from -1 (completely dissimilar) to 1 (completely similar), with 0 indicating orthogonality (no similarity)."
   ]
  },
  {
   "cell_type": "code",
   "execution_count": 25,
   "id": "e7aa9f9a-c3be-4f30-807c-031ee5861a55",
   "metadata": {},
   "outputs": [
    {
     "name": "stdout",
     "output_type": "stream",
     "text": [
      "Cosine Similarities for Product 1:\n",
      "[1.         0.84515655 0.84799501 0.90251395 0.79701246 0.81835355\n",
      " 0.88169348 0.83008039 0.8410645  0.8806943  0.77736663 0.78332284\n",
      " 0.86717872 0.89962635 0.86162994 0.86506719 0.87937468 0.80743984\n",
      " 0.81532013 0.76467531]\n"
     ]
    }
   ],
   "source": [
    "def cosine_similarity_func(a, b):\n",
    "    return 1 - cosine(a, b)\n",
    "\n",
    "# Compute pairwise cosine similarities\n",
    "cosine_similarities = np.zeros((n_products, n_products))\n",
    "for i in range(n_products):\n",
    "    for j in range(n_products):\n",
    "        cosine_similarities[i, j] = cosine_similarity_func(tsne_embeddings[i], tsne_embeddings[j])\n",
    "\n",
    "# Print the cosine similarities\n",
    "print(\"Cosine Similarities for Product 1:\")\n",
    "print(cosine_similarities[0])"
   ]
  },
  {
   "cell_type": "markdown",
   "id": "118fa78c-a2a2-4979-b324-a12743acd4b1",
   "metadata": {},
   "source": [
    "Let's find the \"nearest\" products for a few of our products."
   ]
  },
  {
   "cell_type": "code",
   "execution_count": 26,
   "id": "1e3a24cb-757a-4ae2-b279-f7c3208f1f66",
   "metadata": {},
   "outputs": [
    {
     "data": {
      "text/html": [
       "The closest product to <b>New York City Slices Gourmet Pizza</b> is: <b>Pizza Squeeze Pizza Sauce</b>."
      ],
      "text/plain": [
       "<IPython.core.display.HTML object>"
      ]
     },
     "metadata": {},
     "output_type": "display_data"
    },
    {
     "data": {
      "text/html": [
       "The closest product to <b>Turkey Feast Cat Food</b> is: <b>Chicken & Tuna Dinner Wet Cat Food</b>."
      ],
      "text/plain": [
       "<IPython.core.display.HTML object>"
      ]
     },
     "metadata": {},
     "output_type": "display_data"
    },
    {
     "data": {
      "text/html": [
       "The closest product to <b>Reduced Fat 1% Milk</b> is: <b>Organic Milk</b>."
      ],
      "text/plain": [
       "<IPython.core.display.HTML object>"
      ]
     },
     "metadata": {},
     "output_type": "display_data"
    }
   ],
   "source": [
    "def get_index_of_second_highest(numbers):\n",
    "    # Enumerate the list to keep track of indices\n",
    "    indexed_numbers = list(enumerate(numbers))\n",
    "    # Sort the list based on the values (second element of each tuple) in descending order\n",
    "    sorted_numbers = sorted(indexed_numbers, key=lambda x: x[1], reverse=True)\n",
    "    # Return the index of the second highest element (first element of the second tuple)\n",
    "    return sorted_numbers[1][0]\n",
    "\n",
    "product_indices = [0, 14, 19]\n",
    "for pi in product_indices:\n",
    "    this_product = product_labels[pi]\n",
    "    index2 = get_index_of_second_highest(cosine_similarities[pi])\n",
    "    closest_product = product_labels[index2]\n",
    "    output_string = f\"The closest product to <b>{this_product}</b> is: <b>{closest_product}</b>.\"\n",
    "    display(HTML(output_string))"
   ]
  },
  {
   "cell_type": "markdown",
   "id": "44fb3c0b-1311-48b0-a61b-15916738b370",
   "metadata": {},
   "source": [
    "You can now see the limitations of the t-SNE visualization 2D projection shown above. Even though the two cat food products aligned along the vertical dimension, they did not align along the horizontal dimension. When interpreting a 2D projection that was compressed from many dimensions (e.g., 768), focus on the general patterns and not specific individual items."
   ]
  },
  {
   "cell_type": "markdown",
   "id": "cee2be3a-074a-415b-b854-5829bdae3c43",
   "metadata": {},
   "source": [
    "### Recommender Functions\n",
    "\n",
    "To make the proper recommendations, we need to first define the following functions:\n",
    "\n",
    "- **recommend_similar_products**\n",
    "- **get_last_n_purchased_products**\n",
    "- **recommend_products_based_on_history**\n",
    "\n",
    "The function **recommend_similar_products** will accept a product name and return the top N similar products based on cosine similarity.\n",
    "\n",
    "The function **get_last_n_purchased_products** will return the last N purchased products by a given user.\n",
    "\n",
    "The function **recommend_products_based_on_history** will make product recommendations for a user based on both the purchasing sequence and the embeddings."
   ]
  },
  {
   "cell_type": "code",
   "execution_count": 27,
   "id": "3cf8a01b-3be5-45bf-af9c-f79aa79a6706",
   "metadata": {},
   "outputs": [],
   "source": [
    "def recommend_similar_products(product_name, product_embedding_dict, top_n=5):\n",
    "    product_embedding = product_embedding_dict[product_name]\n",
    "    product_embeddings = np.vstack(list(product_embedding_dict.values()))\n",
    "    similarity_scores = cosine_similarity(product_embedding.reshape(1, -1), product_embeddings)[0]\n",
    "    sorted_indices = np.argsort(similarity_scores)[::-1]\n",
    "    recommended_indices = sorted_indices[1:top_n + 1]\n",
    "    return [all_products[idx] for idx in recommended_indices]"
   ]
  },
  {
   "cell_type": "code",
   "execution_count": 28,
   "id": "3b1b9e48-a3a2-42a5-8419-837066172b9b",
   "metadata": {},
   "outputs": [],
   "source": [
    "def get_last_n_purchased_products(user_id, n):\n",
    "    user_orders = df_all[df_all['user_id'] == user_id].sort_values(by=['order_number', 'add_to_cart_order'], ascending=False)\n",
    "    return user_orders['product_name'].head(n).tolist()"
   ]
  },
  {
   "cell_type": "code",
   "execution_count": 29,
   "id": "0210f100-b8cc-4db1-bade-390f1765f921",
   "metadata": {},
   "outputs": [],
   "source": [
    "def recommend_products_based_on_history(user_id, product_embedding_dict, starting_order, n=5, top_n=5):\n",
    "    last_purchased_products = get_last_n_purchased_products(user_id, n)\n",
    "    product = last_purchased_products[n - starting_order]\n",
    "    recommendations = recommend_similar_products(product, product_embedding_dict, top_n=top_n)\n",
    "    return set(recommendations) - set(last_purchased_products)"
   ]
  },
  {
   "cell_type": "markdown",
   "id": "3aad7c03-afdb-42bc-8def-cffabcb2e9e0",
   "metadata": {},
   "source": [
    "### Product Recommender"
   ]
  },
  {
   "cell_type": "code",
   "execution_count": 30,
   "id": "34b1ccbd-a295-4ae0-a9fd-2cbcc19ab9a8",
   "metadata": {},
   "outputs": [],
   "source": [
    "def print_recommended_products(user_id, product_embedding_dict, starting_order, n):\n",
    "    recommended_products = recommend_products_based_on_history(user_id, product_embedding_dict, starting_order, n)\n",
    "    print(f\"Recommended products for user {user_id}:\")\n",
    "    for product in recommended_products:\n",
    "        print(\"-\", product)"
   ]
  },
  {
   "cell_type": "code",
   "execution_count": 31,
   "id": "1bd7f936-dbf6-4a1e-a3a6-b18c2c6ba65b",
   "metadata": {},
   "outputs": [
    {
     "name": "stdout",
     "output_type": "stream",
     "text": [
      "User 1 has purchased the last 10 products in the following order:\n",
      "1: Organic String Cheese\n",
      "2: 0% Greek Strained Yogurt\n",
      "3: XL Pick-A-Size Paper Towel Rolls\n",
      "4: Milk Chocolate Almonds\n",
      "5: Pistachios\n",
      "6: Cinnamon Toast Crunch\n",
      "7: Aged White Cheddar Popcorn\n",
      "8: Organic Whole Milk\n",
      "9: Organic Half & Half\n",
      "10: Zero Calorie Cola\n"
     ]
    }
   ],
   "source": [
    "user_id = 1\n",
    "n_history = 10\n",
    "purchased_products = get_last_n_purchased_products(user_id, n_history)\n",
    "purchased_products.reverse()\n",
    "print(f\"User {user_id} has purchased the last {n_history} products in the following order:\")\n",
    "for index, product in enumerate(purchased_products):\n",
    "    print(f\"{index+1}: {product}\")"
   ]
  },
  {
   "cell_type": "code",
   "execution_count": 32,
   "id": "e0821504-2e43-4d83-96c4-58084efc7b1d",
   "metadata": {},
   "outputs": [
    {
     "name": "stdout",
     "output_type": "stream",
     "text": [
      "Recommended products for user 1:\n",
      "- 0% Fat Peach Greek Yogurt\n",
      "- 0% Fat Strawberry Greek Yogurt\n",
      "- 0% Fat Blueberry Greek Yogurt\n",
      "- 0% Fat Vanilla Greek Yogurt\n",
      "- 0% Milkfat Greek Plain Yogurt\n"
     ]
    }
   ],
   "source": [
    "ordered_so_far = 2\n",
    "print_recommended_products(user_id, product_embedding_dict, ordered_so_far, n_history)"
   ]
  },
  {
   "cell_type": "code",
   "execution_count": 33,
   "id": "776d41cb-daaa-49f7-9c96-8a8910e8cf5b",
   "metadata": {},
   "outputs": [
    {
     "name": "stdout",
     "output_type": "stream",
     "text": [
      "Recommended products for user 1:\n",
      "- Pinenuts\n",
      "- Brussels Sprouts\n",
      "- Pineapples\n",
      "- Pomegranates\n",
      "- Organic Pistachios\n"
     ]
    }
   ],
   "source": [
    "ordered_so_far = 5\n",
    "print_recommended_products(user_id, product_embedding_dict, ordered_so_far, n_history)"
   ]
  },
  {
   "cell_type": "code",
   "execution_count": 34,
   "id": "57c83df4-da1e-4cad-af53-17d22ee499e4",
   "metadata": {},
   "outputs": [
    {
     "name": "stdout",
     "output_type": "stream",
     "text": [
      "Recommended products for user 1:\n",
      "- Flaked Tuna\n",
      "- Organic French Vanilla Protein Shake\n",
      "- Multi Grain Crispbread\n",
      "- Whole Grain Crispbread\n",
      "- Aged White Cheddar Crunchy Popcorn\n"
     ]
    }
   ],
   "source": [
    "ordered_so_far = 7\n",
    "print_recommended_products(user_id, product_embedding_dict, ordered_so_far, n_history)"
   ]
  },
  {
   "cell_type": "markdown",
   "id": "9b7ae29e-dfaa-4b68-8deb-318d32381820",
   "metadata": {},
   "source": [
    "### Saving and Loading the Model\n",
    "\n",
    "The code snippet below uses the **torch.save** function from the PyTorch library to save the state dictionary (state_dict) of a PyTorch model to a file. The state dictionary is a Python dictionary that contains all the learnable parameters (weights and biases) of the model. This is a common way to save and later load the trained parameters of a model in PyTorch.\n",
    "\n",
    "Likewise, the **torch.load** function from the PyTorch library will retrieve the learnable parameters along with the BERT model itself."
   ]
  },
  {
   "cell_type": "code",
   "execution_count": 35,
   "id": "d318a58b-fc35-4cca-92da-26045928ad50",
   "metadata": {},
   "outputs": [],
   "source": [
    "# Save the PyTorch BERT model\n",
    "torch.save(model.state_dict(), 'bert_model.pt')"
   ]
  },
  {
   "cell_type": "code",
   "execution_count": 36,
   "id": "cb14f836-3d97-42eb-805c-59209562d126",
   "metadata": {},
   "outputs": [],
   "source": [
    "# Load the saved PyTorch BERT model\n",
    "state_dict = torch.load('bert_model.pt')\n",
    "model = BertModel.from_pretrained('bert-base-uncased', state_dict=state_dict)"
   ]
  },
  {
   "cell_type": "markdown",
   "id": "b1d18ab9-0d0f-46e0-a2e1-5e1fa6e7282a",
   "metadata": {},
   "source": [
    "### ONXX Export"
   ]
  },
  {
   "cell_type": "code",
   "execution_count": 37,
   "id": "79269782-8c85-491c-b00b-d6e7de8d0b28",
   "metadata": {},
   "outputs": [
    {
     "data": {
      "text/plain": [
       "BertModel(\n",
       "  (embeddings): BertEmbeddings(\n",
       "    (word_embeddings): Embedding(30522, 768, padding_idx=0)\n",
       "    (position_embeddings): Embedding(512, 768)\n",
       "    (token_type_embeddings): Embedding(2, 768)\n",
       "    (LayerNorm): LayerNorm((768,), eps=1e-12, elementwise_affine=True)\n",
       "    (dropout): Dropout(p=0.1, inplace=False)\n",
       "  )\n",
       "  (encoder): BertEncoder(\n",
       "    (layer): ModuleList(\n",
       "      (0-11): 12 x BertLayer(\n",
       "        (attention): BertAttention(\n",
       "          (self): BertSelfAttention(\n",
       "            (query): Linear(in_features=768, out_features=768, bias=True)\n",
       "            (key): Linear(in_features=768, out_features=768, bias=True)\n",
       "            (value): Linear(in_features=768, out_features=768, bias=True)\n",
       "            (dropout): Dropout(p=0.1, inplace=False)\n",
       "          )\n",
       "          (output): BertSelfOutput(\n",
       "            (dense): Linear(in_features=768, out_features=768, bias=True)\n",
       "            (LayerNorm): LayerNorm((768,), eps=1e-12, elementwise_affine=True)\n",
       "            (dropout): Dropout(p=0.1, inplace=False)\n",
       "          )\n",
       "        )\n",
       "        (intermediate): BertIntermediate(\n",
       "          (dense): Linear(in_features=768, out_features=3072, bias=True)\n",
       "          (intermediate_act_fn): GELUActivation()\n",
       "        )\n",
       "        (output): BertOutput(\n",
       "          (dense): Linear(in_features=3072, out_features=768, bias=True)\n",
       "          (LayerNorm): LayerNorm((768,), eps=1e-12, elementwise_affine=True)\n",
       "          (dropout): Dropout(p=0.1, inplace=False)\n",
       "        )\n",
       "      )\n",
       "    )\n",
       "  )\n",
       "  (pooler): BertPooler(\n",
       "    (dense): Linear(in_features=768, out_features=768, bias=True)\n",
       "    (activation): Tanh()\n",
       "  )\n",
       ")"
      ]
     },
     "execution_count": 37,
     "metadata": {},
     "output_type": "execute_result"
    }
   ],
   "source": [
    "model.eval()"
   ]
  },
  {
   "cell_type": "code",
   "execution_count": null,
   "id": "9a15baa6-9cac-42a1-9217-542c81c7a0a9",
   "metadata": {},
   "outputs": [],
   "source": [
    "# This model may be too big to export to ONNX and is taking at least 15 minutes so far.\n",
    "\n",
    "export_to_onnx = True\n",
    "if export_to_onnx:\n",
    "    # Define an example input tensor\n",
    "    batch_size, seq_len = 2, 128\n",
    "    # Sample Tensor\n",
    "    inputs = torch.randint(low=0, high=30522, size=(2, 128), dtype=torch.long)\n",
    "    # Export the PyTorch BERT model to ONNX format\n",
    "    torch.onnx.export(model, inputs, 'bert_model.onnx', verbose=True)"
   ]
  }
 ],
 "metadata": {
  "kernelspec": {
   "display_name": "Python 3 (ipykernel)",
   "language": "python",
   "name": "python3"
  },
  "language_info": {
   "codemirror_mode": {
    "name": "ipython",
    "version": 3
   },
   "file_extension": ".py",
   "mimetype": "text/x-python",
   "name": "python",
   "nbconvert_exporter": "python",
   "pygments_lexer": "ipython3",
   "version": "3.9.10"
  }
 },
 "nbformat": 4,
 "nbformat_minor": 5
}
